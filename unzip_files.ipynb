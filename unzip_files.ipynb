{
 "cells": [
  {
   "cell_type": "code",
   "execution_count": 2,
   "id": "742df0ba-607d-4234-825b-9d1688771351",
   "metadata": {},
   "outputs": [],
   "source": [
    "import glob"
   ]
  },
  {
   "cell_type": "code",
   "execution_count": 8,
   "id": "8e0178b8-2f0b-4724-b643-c4a224da0272",
   "metadata": {},
   "outputs": [],
   "source": [
    "import zipfile"
   ]
  },
  {
   "cell_type": "code",
   "execution_count": 23,
   "id": "6bca21da-694e-4896-b9f1-676833d1548b",
   "metadata": {},
   "outputs": [
    {
     "data": {
      "text/plain": [
       "'GBIF_Zapallar_2021'"
      ]
     },
     "execution_count": 23,
     "metadata": {},
     "output_type": "execute_result"
    }
   ],
   "source": [
    "file.split('\\\\')[-1].split('.')[0]"
   ]
  },
  {
   "cell_type": "code",
   "execution_count": 25,
   "id": "fbf19d21-1b57-41f2-9b80-a67d0c42598a",
   "metadata": {},
   "outputs": [
    {
     "data": {
      "text/plain": [
       "'..\\\\..\\\\..\\\\Desktop\\\\GBIF_BDdata\\\\GBIF_Zapallar_2021'"
      ]
     },
     "execution_count": 25,
     "metadata": {},
     "output_type": "execute_result"
    }
   ],
   "source": [
    "f'..\\..\\..\\Desktop\\GBIF_BDdata\\{name}'"
   ]
  },
  {
   "cell_type": "code",
   "execution_count": 4,
   "id": "5b4c2fb7-c98e-4bf0-b2f4-b398c5df515c",
   "metadata": {},
   "outputs": [
    {
     "name": "stdout",
     "output_type": "stream",
     "text": [
      " El volumen de la unidad C es OS\n",
      " El n£mero de serie del volumen es: 9E3A-F665\n",
      "\n",
      " Directorio de C:\\Users\\Mariana\\Google Drive\\Doctorado\\BD_resili\n",
      "\n",
      "08-09-2022  18:23    <DIR>          .\n",
      "08-09-2022  10:57    <DIR>          ..\n",
      "08-09-2022  10:57    <DIR>          .ipynb_checkpoints\n",
      "05-01-2022  16:00               273 Abstract Biodiversity, Resilience and Smart Cities.gdoc\n",
      "08-09-2022  17:44               273 BD Resilience Smart Cities.gdoc\n",
      "08-09-2022  18:23           157.476 BD_GBIF_completo.ipynb\n",
      "08-09-2022  13:03               582 BD_resili\n",
      "17-06-2022  11:12               273 BD_Resilience_Smartcities.gslides\n",
      "01-09-2022  19:27               273 Cuestionario sobre Contribuciones de la Naturaleza a las Personas y Resiliencia.gform\n",
      "08-09-2022  10:57    <DIR>          Datos\n",
      "08-09-2022  13:13           122.027 High resoltion.png\n",
      "11-08-2022  13:35               751 Mail_cuestionario.txt\n",
      "07-09-2022  16:56           122.027 Occurrences_Chile.png\n",
      "07-06-2022  01:13               534 Readme.txt\n",
      "05-09-2022  23:19            10.437 unzip_files.ipynb\n",
      "              11 archivos        414.926 bytes\n",
      "               4 dirs   7.753.162.752 bytes libres\n"
     ]
    }
   ],
   "source": [
    "ls"
   ]
  },
  {
   "cell_type": "code",
   "execution_count": 6,
   "id": "bb9d3e5a-dab0-43aa-a406-c5fa488a6c8d",
   "metadata": {},
   "outputs": [
    {
     "data": {
      "text/plain": [
       "['..\\\\..\\\\..\\\\Desktop\\\\GBIF_BDdata\\\\GBIF_Algarrobo_2021.zip',\n",
       " '..\\\\..\\\\..\\\\Desktop\\\\GBIF_BDdata\\\\GBIF_Ancud_2021.zip',\n",
       " '..\\\\..\\\\..\\\\Desktop\\\\GBIF_BDdata\\\\GBIF_Antofagasta_2021.zip',\n",
       " '..\\\\..\\\\..\\\\Desktop\\\\GBIF_BDdata\\\\GBIF_Antonio_2021.zip',\n",
       " '..\\\\..\\\\..\\\\Desktop\\\\GBIF_BDdata\\\\GBIF_Arauco_2021.zip',\n",
       " '..\\\\..\\\\..\\\\Desktop\\\\GBIF_BDdata\\\\GBIF_Arica_2021.zip',\n",
       " '..\\\\..\\\\..\\\\Desktop\\\\GBIF_BDdata\\\\GBIF_Caldera_2021.zip',\n",
       " '..\\\\..\\\\..\\\\Desktop\\\\GBIF_BDdata\\\\GBIF_Caremapu_2021.zip',\n",
       " '..\\\\..\\\\..\\\\Desktop\\\\GBIF_BDdata\\\\GBIF_Cartagena_2021.zip',\n",
       " '..\\\\..\\\\..\\\\Desktop\\\\GBIF_BDdata\\\\GBIF_Chanaral_2021.zip',\n",
       " '..\\\\..\\\\..\\\\Desktop\\\\GBIF_BDdata\\\\GBIF_Cobquecura_2021.zip',\n",
       " '..\\\\..\\\\..\\\\Desktop\\\\GBIF_BDdata\\\\GBIF_Concon_2021.zip',\n",
       " '..\\\\..\\\\..\\\\Desktop\\\\GBIF_BDdata\\\\GBIF_Constitucion_2021.zip',\n",
       " '..\\\\..\\\\..\\\\Desktop\\\\GBIF_BDdata\\\\GBIF_Coquimbo_2021.zip',\n",
       " '..\\\\..\\\\..\\\\Desktop\\\\GBIF_BDdata\\\\GBIF_Coronel_2021.zip',\n",
       " '..\\\\..\\\\..\\\\Desktop\\\\GBIF_BDdata\\\\GBIF_Corral_2021.zip',\n",
       " '..\\\\..\\\\..\\\\Desktop\\\\GBIF_BDdata\\\\GBIF_Domingo_2021.zip',\n",
       " '..\\\\..\\\\..\\\\Desktop\\\\GBIF_BDdata\\\\GBIF_Guanaqueros_2021.zip',\n",
       " '..\\\\..\\\\..\\\\Desktop\\\\GBIF_BDdata\\\\GBIF_Hualpen_2021.zip',\n",
       " '..\\\\..\\\\..\\\\Desktop\\\\GBIF_BDdata\\\\GBIF_Huasco_2021.zip',\n",
       " '..\\\\..\\\\..\\\\Desktop\\\\GBIF_BDdata\\\\GBIF_Iloca_2021.zip',\n",
       " '..\\\\..\\\\..\\\\Desktop\\\\GBIF_BDdata\\\\GBIF_Iquique_2021.zip',\n",
       " '..\\\\..\\\\..\\\\Desktop\\\\GBIF_BDdata\\\\GBIF_Lebu_2021.zip',\n",
       " '..\\\\..\\\\..\\\\Desktop\\\\GBIF_BDdata\\\\GBIF_Lota_2021.zip',\n",
       " '..\\\\..\\\\..\\\\Desktop\\\\GBIF_BDdata\\\\GBIF_Mansa_2021.zip',\n",
       " '..\\\\..\\\\..\\\\Desktop\\\\GBIF_BDdata\\\\GBIF_Maullin_2021.zip',\n",
       " '..\\\\..\\\\..\\\\Desktop\\\\GBIF_BDdata\\\\GBIF_Mejillones_2021.zip',\n",
       " '..\\\\..\\\\..\\\\Desktop\\\\GBIF_BDdata\\\\GBIF_Niebla_2021.zip',\n",
       " '..\\\\..\\\\..\\\\Desktop\\\\GBIF_BDdata\\\\GBIF_Papudo_2021.zip',\n",
       " '..\\\\..\\\\..\\\\Desktop\\\\GBIF_BDdata\\\\GBIF_Penco_2021.zip',\n",
       " '..\\\\..\\\\..\\\\Desktop\\\\GBIF_BDdata\\\\GBIF_Pichidangui_2021.zip',\n",
       " '..\\\\..\\\\..\\\\Desktop\\\\GBIF_BDdata\\\\GBIF_Pichilemu_2021.zip',\n",
       " '..\\\\..\\\\..\\\\Desktop\\\\GBIF_BDdata\\\\GBIF_Quidico_2021.zip',\n",
       " '..\\\\..\\\\..\\\\Desktop\\\\GBIF_BDdata\\\\GBIF_Quintero_2021.zip',\n",
       " '..\\\\..\\\\..\\\\Desktop\\\\GBIF_BDdata\\\\GBIF_Quisco_2021.zip',\n",
       " '..\\\\..\\\\..\\\\Desktop\\\\GBIF_BDdata\\\\GBIF_SanPedro_2021.zip',\n",
       " '..\\\\..\\\\..\\\\Desktop\\\\GBIF_BDdata\\\\GBIF_Tabo_2021.zip',\n",
       " '..\\\\..\\\\..\\\\Desktop\\\\GBIF_BDdata\\\\GBIF_Talcahuano_2021.zip',\n",
       " '..\\\\..\\\\..\\\\Desktop\\\\GBIF_BDdata\\\\GBIF_Taltal_2021.zip',\n",
       " '..\\\\..\\\\..\\\\Desktop\\\\GBIF_BDdata\\\\GBIF_Tirua_2021.zip',\n",
       " '..\\\\..\\\\..\\\\Desktop\\\\GBIF_BDdata\\\\GBIF_Tocopilla_2021.zip',\n",
       " '..\\\\..\\\\..\\\\Desktop\\\\GBIF_BDdata\\\\GBIF_Tome_2021.zip',\n",
       " '..\\\\..\\\\..\\\\Desktop\\\\GBIF_BDdata\\\\GBIF_Tongoy_2021.zip',\n",
       " '..\\\\..\\\\..\\\\Desktop\\\\GBIF_BDdata\\\\GBIF_Tumbes_2021.zip',\n",
       " '..\\\\..\\\\..\\\\Desktop\\\\GBIF_BDdata\\\\GBIF_Valpo_2021.zip',\n",
       " '..\\\\..\\\\..\\\\Desktop\\\\GBIF_BDdata\\\\GBIF_VentanasHorcon_2021.zip',\n",
       " '..\\\\..\\\\..\\\\Desktop\\\\GBIF_BDdata\\\\GBIF_Vina_2021.zip',\n",
       " '..\\\\..\\\\..\\\\Desktop\\\\GBIF_BDdata\\\\GBIF_Zapallar_2021.zip']"
      ]
     },
     "execution_count": 6,
     "metadata": {},
     "output_type": "execute_result"
    }
   ],
   "source": [
    "glob.glob('..\\..\\..\\Desktop\\GBIF_BDdata\\*.zip')"
   ]
  },
  {
   "cell_type": "code",
   "execution_count": 10,
   "id": "96ca5c86-c015-4d19-981e-4048d351af50",
   "metadata": {},
   "outputs": [
    {
     "name": "stdout",
     "output_type": "stream",
     "text": [
      "Unzipping: ..\\..\\..\\Desktop\\GBIF_BDdata\\GBIF_Algarrobo_2021.zip\n",
      "Unzipping: ..\\..\\..\\Desktop\\GBIF_BDdata\\GBIF_Ancud_2021.zip\n",
      "Unzipping: ..\\..\\..\\Desktop\\GBIF_BDdata\\GBIF_Antofagasta_2021.zip\n",
      "Unzipping: ..\\..\\..\\Desktop\\GBIF_BDdata\\GBIF_Antonio_2021.zip\n",
      "Unzipping: ..\\..\\..\\Desktop\\GBIF_BDdata\\GBIF_Arauco_2021.zip\n",
      "Unzipping: ..\\..\\..\\Desktop\\GBIF_BDdata\\GBIF_Arica_2021.zip\n",
      "Unzipping: ..\\..\\..\\Desktop\\GBIF_BDdata\\GBIF_Caldera_2021.zip\n",
      "Unzipping: ..\\..\\..\\Desktop\\GBIF_BDdata\\GBIF_Caremapu_2021.zip\n",
      "Unzipping: ..\\..\\..\\Desktop\\GBIF_BDdata\\GBIF_Cartagena_2021.zip\n",
      "Unzipping: ..\\..\\..\\Desktop\\GBIF_BDdata\\GBIF_Chanaral_2021.zip\n",
      "Unzipping: ..\\..\\..\\Desktop\\GBIF_BDdata\\GBIF_Cobquecura_2021.zip\n",
      "Unzipping: ..\\..\\..\\Desktop\\GBIF_BDdata\\GBIF_Concon_2021.zip\n",
      "Unzipping: ..\\..\\..\\Desktop\\GBIF_BDdata\\GBIF_Constitucion_2021.zip\n",
      "Unzipping: ..\\..\\..\\Desktop\\GBIF_BDdata\\GBIF_Coquimbo_2021.zip\n",
      "Unzipping: ..\\..\\..\\Desktop\\GBIF_BDdata\\GBIF_Coronel_2021.zip\n",
      "Unzipping: ..\\..\\..\\Desktop\\GBIF_BDdata\\GBIF_Corral_2021.zip\n",
      "Unzipping: ..\\..\\..\\Desktop\\GBIF_BDdata\\GBIF_Domingo_2021.zip\n",
      "Unzipping: ..\\..\\..\\Desktop\\GBIF_BDdata\\GBIF_Guanaqueros_2021.zip\n",
      "Unzipping: ..\\..\\..\\Desktop\\GBIF_BDdata\\GBIF_Hualpen_2021.zip\n",
      "Unzipping: ..\\..\\..\\Desktop\\GBIF_BDdata\\GBIF_Huasco_2021.zip\n",
      "Unzipping: ..\\..\\..\\Desktop\\GBIF_BDdata\\GBIF_Iloca_2021.zip\n",
      "Unzipping: ..\\..\\..\\Desktop\\GBIF_BDdata\\GBIF_Iquique_2021.zip\n",
      "Unzipping: ..\\..\\..\\Desktop\\GBIF_BDdata\\GBIF_Lebu_2021.zip\n",
      "Unzipping: ..\\..\\..\\Desktop\\GBIF_BDdata\\GBIF_Lota_2021.zip\n",
      "Unzipping: ..\\..\\..\\Desktop\\GBIF_BDdata\\GBIF_Mansa_2021.zip\n",
      "Unzipping: ..\\..\\..\\Desktop\\GBIF_BDdata\\GBIF_Maullin_2021.zip\n",
      "Unzipping: ..\\..\\..\\Desktop\\GBIF_BDdata\\GBIF_Mejillones_2021.zip\n",
      "Unzipping: ..\\..\\..\\Desktop\\GBIF_BDdata\\GBIF_Niebla_2021.zip\n",
      "Unzipping: ..\\..\\..\\Desktop\\GBIF_BDdata\\GBIF_Papudo_2021.zip\n",
      "Unzipping: ..\\..\\..\\Desktop\\GBIF_BDdata\\GBIF_Penco_2021.zip\n",
      "Unzipping: ..\\..\\..\\Desktop\\GBIF_BDdata\\GBIF_Pichidangui_2021.zip\n",
      "Unzipping: ..\\..\\..\\Desktop\\GBIF_BDdata\\GBIF_Pichilemu_2021.zip\n",
      "Unzipping: ..\\..\\..\\Desktop\\GBIF_BDdata\\GBIF_Quidico_2021.zip\n",
      "Unzipping: ..\\..\\..\\Desktop\\GBIF_BDdata\\GBIF_Quintero_2021.zip\n",
      "Unzipping: ..\\..\\..\\Desktop\\GBIF_BDdata\\GBIF_Quisco_2021.zip\n",
      "Unzipping: ..\\..\\..\\Desktop\\GBIF_BDdata\\GBIF_SanPedro_2021.zip\n",
      "Unzipping: ..\\..\\..\\Desktop\\GBIF_BDdata\\GBIF_Tabo_2021.zip\n",
      "Unzipping: ..\\..\\..\\Desktop\\GBIF_BDdata\\GBIF_Talcahuano_2021.zip\n",
      "Unzipping: ..\\..\\..\\Desktop\\GBIF_BDdata\\GBIF_Taltal_2021.zip\n",
      "Unzipping: ..\\..\\..\\Desktop\\GBIF_BDdata\\GBIF_Tirua_2021.zip\n",
      "Unzipping: ..\\..\\..\\Desktop\\GBIF_BDdata\\GBIF_Tocopilla_2021.zip\n",
      "Unzipping: ..\\..\\..\\Desktop\\GBIF_BDdata\\GBIF_Tome_2021.zip\n",
      "Unzipping: ..\\..\\..\\Desktop\\GBIF_BDdata\\GBIF_Tongoy_2021.zip\n",
      "Unzipping: ..\\..\\..\\Desktop\\GBIF_BDdata\\GBIF_Tumbes_2021.zip\n",
      "Unzipping: ..\\..\\..\\Desktop\\GBIF_BDdata\\GBIF_Valpo_2021.zip\n",
      "Unzipping: ..\\..\\..\\Desktop\\GBIF_BDdata\\GBIF_VentanasHorcon_2021.zip\n",
      "Unzipping: ..\\..\\..\\Desktop\\GBIF_BDdata\\GBIF_Vina_2021.zip\n",
      "Unzipping: ..\\..\\..\\Desktop\\GBIF_BDdata\\GBIF_Zapallar_2021.zip\n"
     ]
    }
   ],
   "source": [
    "files = glob.glob('..\\..\\..\\Desktop\\GBIF_BDdata\\*.zip')\n",
    "\n",
    "\n",
    "for file in files:\n",
    "    print('Unzipping:',file)\n",
    "    name = file.split('\\\\')[-1].split('.')[0]\n",
    "    with zipfile.ZipFile(file, 'r') as zip_ref:\n",
    "        zip_ref.extractall(f'..\\..\\..\\Desktop\\GBIF_BDdata\\{name}')"
   ]
  },
  {
   "cell_type": "code",
   "execution_count": null,
   "id": "d3b2fcb7-15ca-4377-9ce7-7b45a2c129c2",
   "metadata": {},
   "outputs": [],
   "source": []
  }
 ],
 "metadata": {
  "kernelspec": {
   "display_name": "bdtesis",
   "language": "python",
   "name": "bdtesis"
  },
  "language_info": {
   "codemirror_mode": {
    "name": "ipython",
    "version": 3
   },
   "file_extension": ".py",
   "mimetype": "text/x-python",
   "name": "python",
   "nbconvert_exporter": "python",
   "pygments_lexer": "ipython3",
   "version": "3.9.13"
  }
 },
 "nbformat": 4,
 "nbformat_minor": 5
}
